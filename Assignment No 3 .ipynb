{
 "cells": [
  {
   "cell_type": "code",
   "execution_count": 17,
   "metadata": {},
   "outputs": [
    {
     "name": "stdout",
     "output_type": "stream",
     "text": [
      "Enter first value5\n",
      "Enter operator**\n",
      "Enter second value5\n",
      "3125 answer\n"
     ]
    }
   ],
   "source": [
    "##calculator \n",
    "val1=int(input(\"Enter first value\"))\n",
    "operator=input(\"Enter operator\")\n",
    "val2=int(input(\"Enter second value\"))\n",
    "\n",
    "if operator == \"+\":\n",
    "    val=val1+val2\n",
    "    print(val, \"answer\")\n",
    "    \n",
    "elif operator == \"-\":\n",
    "    val=val1-val2\n",
    "    print(val, \"answer\")\n",
    "    \n",
    "elif operator == \"*\":\n",
    "    val=val1*val2\n",
    "    print(val, \"answer\")\n",
    "    \n",
    "elif operator == \"/\":\n",
    "    val=val1/val2\n",
    "    print(val, \"answer\")\n",
    "    \n",
    "elif operator == \"**\":\n",
    "    val=val1**val2\n",
    "    print(val, \"answer\")\n",
    "\n",
    "else:\n",
    "    print(\"entered uncorrect operator\")"
   ]
  },
  {
   "cell_type": "code",
   "execution_count": 16,
   "metadata": {},
   "outputs": [
    {
     "name": "stdout",
     "output_type": "stream",
     "text": [
      "enter the number:7\n",
      "fuctorial of 7 is 7\n",
      "fuctorial of 7 is 42\n",
      "fuctorial of 7 is 210\n",
      "fuctorial of 7 is 840\n",
      "fuctorial of 7 is 2520\n",
      "fuctorial of 7 is 5040\n",
      "fuctorial of 7 is 5040\n"
     ]
    }
   ],
   "source": [
    "## Write a program to check if there is any numeric value in list using for loop\n",
    "n = int(input(\"enter the number:\"))\n",
    "result=1\n",
    "for i in range(n,0,-1):\n",
    "      result = result*i\n",
    "        \n",
    "      print(\"fuctorial of\",n,\"is\", result )"
   ]
  },
  {
   "cell_type": "code",
   "execution_count": 48,
   "metadata": {},
   "outputs": [
    {
     "name": "stdout",
     "output_type": "stream",
     "text": [
      "{'a': 10, 'b': 20, 'c': 30, 'd': 40, 'e': 50}\n"
     ]
    }
   ],
   "source": [
    "## Write a Python script to add a key to a dictionary\n",
    "dictionary = {'a':10, 'b':20, 'c':30, 'd':40, 'e':50} \n",
    "print(dictionary) "
   ]
  },
  {
   "cell_type": "code",
   "execution_count": 21,
   "metadata": {},
   "outputs": [
    {
     "name": "stdout",
     "output_type": "stream",
     "text": [
      "2\n",
      "8\n",
      "16\n"
     ]
    }
   ],
   "source": [
    "## Write a Python program to sum all the numeric items in a dictionary\n",
    "data = {\"a\" : 2,\n",
    "      \"b\" : 6,\n",
    "      \"c\" : 8}\n",
    "sum= 0\n",
    "add= 0\n",
    "for output in data. values():\n",
    "    sum=sum + output\n",
    "    print(sum)"
   ]
  },
  {
   "cell_type": "code",
   "execution_count": 41,
   "metadata": {},
   "outputs": [
    {
     "name": "stdout",
     "output_type": "stream",
     "text": [
      "[1, 2, 4, 6, 8]\n"
     ]
    }
   ],
   "source": [
    "## Write a program to identify duplicate values from list\n",
    "list1 = [\"amul\",1,1,3,1,5,1,5,1,5]\n",
    "list2=[i for i in range(len(list1)) if list1[i] == 1]\n",
    "print(list2)"
   ]
  },
  {
   "cell_type": "code",
   "execution_count": 50,
   "metadata": {},
   "outputs": [
    {
     "name": "stdout",
     "output_type": "stream",
     "text": [
      "the key d in the dictionary\n"
     ]
    }
   ],
   "source": [
    "## Write a Python script to check if a given key already exists in a dictionary\n",
    "dictionary = {'a':10, 'b':20, 'c':30, 'd':40, 'e':50} \n",
    "if 'd' in dictionary.keys():\n",
    "    print(\"the key d in the dictionary\")\n",
    "else:\n",
    "    print(\"the key d is not in the dictionary\")"
   ]
  },
  {
   "cell_type": "code",
   "execution_count": 56,
   "metadata": {
    "scrolled": true
   },
   "outputs": [
    {
     "name": "stdout",
     "output_type": "stream",
     "text": [
      "it is numeric value\n",
      "it is numeric value\n",
      "it is numeric value\n",
      "it is numeric value\n",
      "it is numeric value\n",
      "it is numeric value\n"
     ]
    }
   ],
   "source": [
    "# repeat qestion no 2\n",
    "n={1,2,3,4,5,6,}\n",
    "for num in n:\n",
    "    print(\"it is numeric value\")"
   ]
  }
 ],
 "metadata": {
  "kernelspec": {
   "display_name": "Python 3",
   "language": "python",
   "name": "python3"
  },
  "language_info": {
   "codemirror_mode": {
    "name": "ipython",
    "version": 3
   },
   "file_extension": ".py",
   "mimetype": "text/x-python",
   "name": "python",
   "nbconvert_exporter": "python",
   "pygments_lexer": "ipython3",
   "version": "3.7.4"
  }
 },
 "nbformat": 4,
 "nbformat_minor": 2
}
